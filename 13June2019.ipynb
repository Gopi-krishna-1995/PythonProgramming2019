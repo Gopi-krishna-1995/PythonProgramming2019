{
 "cells": [
  {
   "cell_type": "markdown",
   "metadata": {},
   "source": [
    " # 13June 2019"
   ]
  },
  {
   "cell_type": "code",
   "execution_count": 1,
   "metadata": {},
   "outputs": [
    {
     "name": "stdout",
     "output_type": "stream",
     "text": [
      "10 * 100 = 1000\n",
      "10 * 101 = 1010\n",
      "10 * 102 = 1020\n",
      "10 * 103 = 1030\n",
      "10 * 104 = 1040\n",
      "10 * 105 = 1050\n",
      "10 * 106 = 1060\n",
      "10 * 107 = 1070\n",
      "10 * 108 = 1080\n",
      "10 * 109 = 1090\n",
      "10 * 110 = 1100\n"
     ]
    }
   ],
   "source": [
    "# Generate 10 Math table range from 100 to 110\n",
    "def mathTable(n):\n",
    "    for i in range(100,110+1):\n",
    "        print(n, \"*\", i, \"=\", n*i)\n",
    "\n",
    "mathTable(10)"
   ]
  },
  {
   "cell_type": "code",
   "execution_count": 2,
   "metadata": {},
   "outputs": [
    {
     "name": "stdout",
     "output_type": "stream",
     "text": [
      "100 99 98 97 96 95 94 93 92 91 90 89 88 87 86 85 84 83 82 81 80 79 78 77 76 75 74 73 72 71 70 69 68 67 66 65 64 63 62 61 60 59 58 57 56 55 54 53 52 51 50 49 48 47 46 45 44 43 42 41 40 39 38 37 36 35 34 33 32 31 30 29 28 27 26 25 24 23 22 21 20 19 18 17 16 15 14 13 12 11 10 9 8 7 6 5 4 3 2 1 "
     ]
    }
   ],
   "source": [
    "# for printing reverse of a given range\n",
    "for i in range(100,0,-1):\n",
    "    print(i,end=\" \")"
   ]
  },
  {
   "cell_type": "code",
   "execution_count": 3,
   "metadata": {},
   "outputs": [
    {
     "name": "stdout",
     "output_type": "stream",
     "text": [
      "99 97 95 93 91 89 87 85 83 81 79 77 75 73 71 69 67 65 63 61 59 57 55 53 51 49 47 45 43 41 39 37 35 33 31 29 27 25 23 21 19 17 15 13 11 9 7 5 3 1 "
     ]
    }
   ],
   "source": [
    "# function to print the odd nums in revers order\n",
    "def reverseOddNums(start,end):\n",
    "    for i in range(end,start-1,-2):\n",
    "        print(i,end=\" \")\n",
    "    return\n",
    "reverseOddNums(1,99)"
   ]
  },
  {
   "cell_type": "code",
   "execution_count": 4,
   "metadata": {},
   "outputs": [
    {
     "data": {
      "text/plain": [
       "15150"
      ]
     },
     "execution_count": 4,
     "metadata": {},
     "output_type": "execute_result"
    }
   ],
   "source": [
    "# print sum of numbers in a range\n",
    "def sumOfRange(start,end):\n",
    "    sum = 0\n",
    "    for i in range(start,end+1):\n",
    "        sum += i\n",
    "    return sum\n",
    "sumOfRange(100,200)"
   ]
  },
  {
   "cell_type": "code",
   "execution_count": 5,
   "metadata": {},
   "outputs": [
    {
     "data": {
      "text/plain": [
       "150.0"
      ]
     },
     "execution_count": 5,
     "metadata": {},
     "output_type": "execute_result"
    }
   ],
   "source": [
    "# function to calculate the average of a given range\n",
    "def avgOfRange(start,end):\n",
    "    sum=0\n",
    "    count=0\n",
    "    for i in range(start,end+1):\n",
    "        sum += i\n",
    "        count += 1\n",
    "    return sum/count\n",
    "\n",
    "avgOfRange(100,200)"
   ]
  },
  {
   "cell_type": "code",
   "execution_count": 6,
   "metadata": {},
   "outputs": [
    {
     "name": "stdout",
     "output_type": "stream",
     "text": [
      "Enter year: 2019\n"
     ]
    },
    {
     "data": {
      "text/plain": [
       "'2019 is not leap year'"
      ]
     },
     "execution_count": 6,
     "metadata": {},
     "output_type": "execute_result"
    }
   ],
   "source": [
    "# Function to check whether a given year is leap or not\n",
    "\n",
    "def leapYear(y):\n",
    "    if(y%400 == 0 or(y%100 != 0 and y%4 == 0)):\n",
    "        return str(y)+\" is a leap year\"\n",
    "    else:\n",
    "        return str(y)+\" is not leap year\"\n",
    "\n",
    "y = int(input('Enter year: '))\n",
    "\n",
    "leapYear(y)"
   ]
  },
  {
   "cell_type": "code",
   "execution_count": 7,
   "metadata": {},
   "outputs": [
    {
     "name": "stdout",
     "output_type": "stream",
     "text": [
      "Enter min value: 2000\n",
      "Enter max value: 2019\n",
      "2000 2004 2008 2012 2016 "
     ]
    }
   ],
   "source": [
    "# Function to generate leap years between given range\n",
    "\n",
    "def NLeapYears(min,max):\n",
    "    for i in range(min,max+1):\n",
    "        if(leapYear(i)==str(i)+\" is a leap year\"):\n",
    "            print(i,end=\" \")\n",
    "        else:\n",
    "            continue\n",
    "\n",
    "\n",
    "min = int(input('Enter min value: '))\n",
    "\n",
    "max = int(input('Enter max value: '))\n",
    "\n",
    "NLeapYears(min,max)\n"
   ]
  },
  {
   "cell_type": "code",
   "execution_count": null,
   "metadata": {},
   "outputs": [],
   "source": []
  },
  {
   "cell_type": "code",
   "execution_count": 1,
   "metadata": {},
   "outputs": [
    {
     "name": "stdout",
     "output_type": "stream",
     "text": [
      "Enter start year2018\n",
      "Enter start month6\n",
      "Enter end year: 2019\n",
      "Enter end month: 7\n"
     ]
    }
   ],
   "source": [
    "#Function to calculate number  of hours for a given time period\n",
    "\n",
    "def NoOfHours(start_month,start_year,end_month,end_year):\n",
    "    hours=0\n",
    "    \n",
    "\n",
    "start_year = int(input('Enter start year'))\n",
    "\n",
    "start_month = int(input('Enter start month'))\n",
    "\n",
    "end_year = int(input('Enter end year: '))\n",
    "\n",
    "end_month = int(input('Enter end month: '))\n",
    "\n",
    "NoOfHours(start_month,start_year,end_month,end_year)"
   ]
  },
  {
   "cell_type": "markdown",
   "metadata": {},
   "source": [
    "\n"
   ]
  },
  {
   "cell_type": "code",
   "execution_count": 4,
   "metadata": {},
   "outputs": [
    {
     "ename": "SyntaxError",
     "evalue": "unexpected EOF while parsing (<ipython-input-4-8a6651c26e95>, line 17)",
     "output_type": "error",
     "traceback": [
      "\u001b[1;36m  File \u001b[1;32m\"<ipython-input-4-8a6651c26e95>\"\u001b[1;36m, line \u001b[1;32m17\u001b[0m\n\u001b[1;33m    for month in range():\u001b[0m\n\u001b[1;37m                         ^\u001b[0m\n\u001b[1;31mSyntaxError\u001b[0m\u001b[1;31m:\u001b[0m unexpected EOF while parsing\n"
     ]
    }
   ],
   "source": [
    "def nuberOfDaysMonth(month,year):\n",
    "    if month ==2:\n",
    "        if isLeapYear(year):\n",
    "            return 29\n",
    "        return 28\n",
    "    elif (month <=7 and month % 2!=0) or (month >=8 and month %2 !=0):\n",
    "        return 31\n",
    "    else:\n",
    "        return 30\n",
    "def daysInStartYear(startmonth, startyear):\n",
    "    days=0\n",
    "    for month in range(startmonth,13):\n",
    "        days += numberOfDaysMonth(month,startyear)\n",
    "    return days\n",
    "def daysInEndYear(endmonth,endyear):\n",
    "    days=0\n",
    "    for month in range(1,endmonth+1):\n",
    "        days += numberOfDaysMonth(month,endyear)\n",
    "    return days\n",
    "def daysInEndYear"
   ]
  },
  {
   "cell_type": "code",
   "execution_count": null,
   "metadata": {},
   "outputs": [],
   "source": []
  }
 ],
 "metadata": {
  "kernelspec": {
   "display_name": "Python 3",
   "language": "python",
   "name": "python3"
  },
  "language_info": {
   "codemirror_mode": {
    "name": "ipython",
    "version": 3
   },
   "file_extension": ".py",
   "mimetype": "text/x-python",
   "name": "python",
   "nbconvert_exporter": "python",
   "pygments_lexer": "ipython3",
   "version": "3.7.3"
  }
 },
 "nbformat": 4,
 "nbformat_minor": 2
}
