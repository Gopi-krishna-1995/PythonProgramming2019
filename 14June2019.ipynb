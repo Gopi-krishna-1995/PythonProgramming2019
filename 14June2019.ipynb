{
 "cells": [
  {
   "cell_type": "markdown",
   "metadata": {},
   "source": [
    "# Problem Solving and Programming in Python\n",
    "\n",
    "## Date -14June2019\n",
    "\n",
    "# Day Objectives\n",
    "\n",
    "    Python Data Structures\n",
    "    Lists\n",
    "    Tuples\n",
    "    Dictionaries\n",
    "    Basic Problem set on Data Structures\n",
    "    Advanced Problem set\n",
    "    Packages and Modules in Python"
   ]
  },
  {
   "cell_type": "code",
   "execution_count": null,
   "metadata": {},
   "outputs": [],
   "source": []
  },
  {
   "cell_type": "code",
   "execution_count": null,
   "metadata": {},
   "outputs": [],
   "source": []
  },
  {
   "cell_type": "markdown",
   "metadata": {},
   "source": [
    "# # Python Data Structures\n",
    "\n",
    "### Lists"
   ]
  },
  {
   "cell_type": "code",
   "execution_count": 30,
   "metadata": {},
   "outputs": [
    {
     "data": {
      "text/plain": [
       "400.5"
      ]
     },
     "execution_count": 30,
     "metadata": {},
     "output_type": "execute_result"
    }
   ],
   "source": [
    "li=[123,222,444]\n",
    "li # Access the entire list\n",
    "li[1] # access an element with index in a list\n",
    "li[1:] # All elements from second element\n",
    "\n",
    "li[::-1]# to reverse a list of elements\n",
    "\n",
    "li[1::2]# odd elements\n",
    "\n",
    "# Lists can be accessed.maniplated in two different ways\n",
    "\n",
    "    # Direct Referencing - Accessing through  index\n",
    "    # Indirect Referencing -through functions\n",
    "li.append(345)# Adding an element to a particular location\n",
    "\n",
    "li.sort() # sort elements in accending order\n",
    "\n",
    "li.pop() # Remove teh last element in a list\n",
    "li\n",
    "li.pop(1) #Remove an element in a particular locstom\n",
    "li\n",
    "\n",
    "\n",
    "\n",
    "li2=[234,456,789]\n",
    "li.extend(li2) # Merge list2 into list1\n",
    "li\n",
    "\n",
    "\n",
    "li\n",
    "\n",
    "\n",
    "sum(li)# Sum of all elements\n",
    "\n",
    "max(li) # max element in a list\n",
    "\n",
    "len(li)# Number of elements in list\n",
    "\n",
    "# Average of list elements\n",
    "\n",
    "avg=sum(li)/len(li)\n",
    "avg\n",
    "\n",
    "\n",
    "# Average of all  alternate elements\n",
    "\n",
    "li\n",
    "a=li[::2]\n",
    "avg=sum(a)/len(a)\n",
    "avg\n",
    "\n",
    "\n",
    "# avg of odd positions\n",
    "\n",
    "a=li[1::2]\n",
    "avg=sum(a)/len(a)\n",
    "avg\n",
    "\n",
    "\n",
    "\n"
   ]
  },
  {
   "cell_type": "code",
   "execution_count": 31,
   "metadata": {},
   "outputs": [
    {
     "data": {
      "text/plain": [
       "12"
      ]
     },
     "execution_count": 31,
     "metadata": {},
     "output_type": "execute_result"
    }
   ],
   "source": [
    "#Function to identify the second largest element in the list\n",
    "\n",
    "def secondLargest(li):\n",
    "    li.remove(max(li))\n",
    "    return max(li)\n",
    "li=[10,12,13]\n",
    "secondLargest(li)"
   ]
  },
  {
   "cell_type": "code",
   "execution_count": 35,
   "metadata": {
    "scrolled": true
   },
   "outputs": [
    {
     "data": {
      "text/plain": [
       "12"
      ]
     },
     "execution_count": 35,
     "metadata": {},
     "output_type": "execute_result"
    }
   ],
   "source": [
    "# Function that returns the nth largest\n",
    "\n",
    "def genericLargest(li,n): \n",
    "    li.sort()\n",
    "    return li[-n]\n",
    "genericLargest(li,1)"
   ]
  },
  {
   "cell_type": "code",
   "execution_count": 40,
   "metadata": {},
   "outputs": [
    {
     "data": {
      "text/plain": [
       "-1"
      ]
     },
     "execution_count": 40,
     "metadata": {},
     "output_type": "execute_result"
    }
   ],
   "source": [
    "# Function to search for data in a list\n",
    "# Search for the key in the list and return the index of the key. return -1 if ky not found\n",
    "def linearSearch(li,key):\n",
    "    for index in range(0,len(li)):\n",
    "        if li[index] == key:\n",
    "            return index\n",
    "    return -1\n",
    "linearSearch(li,12)\n",
    "def linearSearch2(li,key):\n",
    "    if key in li:\n",
    "        return li.index(key)\n",
    "    return -1\n",
    "linearSearch2(li,9)\n",
    "            \n",
    "        "
   ]
  },
  {
   "cell_type": "code",
   "execution_count": 44,
   "metadata": {},
   "outputs": [
    {
     "data": {
      "text/plain": [
       "['__add__',\n",
       " '__class__',\n",
       " '__contains__',\n",
       " '__delattr__',\n",
       " '__dir__',\n",
       " '__doc__',\n",
       " '__eq__',\n",
       " '__format__',\n",
       " '__ge__',\n",
       " '__getattribute__',\n",
       " '__getitem__',\n",
       " '__getnewargs__',\n",
       " '__gt__',\n",
       " '__hash__',\n",
       " '__init__',\n",
       " '__init_subclass__',\n",
       " '__iter__',\n",
       " '__le__',\n",
       " '__len__',\n",
       " '__lt__',\n",
       " '__mod__',\n",
       " '__mul__',\n",
       " '__ne__',\n",
       " '__new__',\n",
       " '__reduce__',\n",
       " '__reduce_ex__',\n",
       " '__repr__',\n",
       " '__rmod__',\n",
       " '__rmul__',\n",
       " '__setattr__',\n",
       " '__sizeof__',\n",
       " '__str__',\n",
       " '__subclasshook__',\n",
       " 'capitalize',\n",
       " 'casefold',\n",
       " 'center',\n",
       " 'count',\n",
       " 'encode',\n",
       " 'endswith',\n",
       " 'expandtabs',\n",
       " 'find',\n",
       " 'format',\n",
       " 'format_map',\n",
       " 'index',\n",
       " 'isalnum',\n",
       " 'isalpha',\n",
       " 'isascii',\n",
       " 'isdecimal',\n",
       " 'isdigit',\n",
       " 'isidentifier',\n",
       " 'islower',\n",
       " 'isnumeric',\n",
       " 'isprintable',\n",
       " 'isspace',\n",
       " 'istitle',\n",
       " 'isupper',\n",
       " 'join',\n",
       " 'ljust',\n",
       " 'lower',\n",
       " 'lstrip',\n",
       " 'maketrans',\n",
       " 'partition',\n",
       " 'replace',\n",
       " 'rfind',\n",
       " 'rindex',\n",
       " 'rjust',\n",
       " 'rpartition',\n",
       " 'rsplit',\n",
       " 'rstrip',\n",
       " 'split',\n",
       " 'splitlines',\n",
       " 'startswith',\n",
       " 'strip',\n",
       " 'swapcase',\n",
       " 'title',\n",
       " 'translate',\n",
       " 'upper',\n",
       " 'zfill']"
      ]
     },
     "execution_count": 44,
     "metadata": {},
     "output_type": "execute_result"
    }
   ],
   "source": [
    "# Function to count the occurances of a character in a string\n",
    "# \"Python Programming\" , m->2\n",
    "\n",
    "def noOfRepeat(string,ch):\n",
    "    return string.count(ch)\n",
    "noOfRepeat(\"Python Programming\" , 'Py')\n",
    "\n",
    "# Function to find the number of occurances of \n",
    "# \"abcabcddcba\",\"ab\" ->2\n",
    "def noOfOccurances(s,sub):\n",
    "    \n",
    "\n"
   ]
  },
  {
   "cell_type": "code",
   "execution_count": null,
   "metadata": {},
   "outputs": [],
   "source": []
  }
 ],
 "metadata": {
  "kernelspec": {
   "display_name": "Python 3",
   "language": "python",
   "name": "python3"
  },
  "language_info": {
   "codemirror_mode": {
    "name": "ipython",
    "version": 3
   },
   "file_extension": ".py",
   "mimetype": "text/x-python",
   "name": "python",
   "nbconvert_exporter": "python",
   "pygments_lexer": "ipython3",
   "version": "3.7.3"
  }
 },
 "nbformat": 4,
 "nbformat_minor": 2
}
