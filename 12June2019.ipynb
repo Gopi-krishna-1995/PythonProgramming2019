{
 "cells": [
  {
   "cell_type": "markdown",
   "metadata": {},
   "source": [
    "# Problem Solving and Programing\n",
    "\n",
    "* Date Objectives\n",
    "* String Slicing\n",
    "* Functions in Python\n",
    "* Basic Problems related to conditional statements using functions\n",
    "* Iteration in python\n",
    "* Python Data Structures-Lists,Tuples and Dictionaries\n",
    "    * Basic Operations on data structures\n",
    "    * Applying Data Structures to solve problems"
   ]
  },
  {
   "cell_type": "code",
   "execution_count": null,
   "metadata": {},
   "outputs": [],
   "source": []
  },
  {
   "cell_type": "markdown",
   "metadata": {},
   "source": [
    "  # Srting Slicing"
   ]
  },
  {
   "cell_type": "code",
   "execution_count": 32,
   "metadata": {},
   "outputs": [
    {
     "data": {
      "text/plain": [
       "'nhy'"
      ]
     },
     "execution_count": 32,
     "metadata": {},
     "output_type": "execute_result"
    }
   ],
   "source": [
    "s1=\"python\"\n",
    "s1[0]\n",
    "s1[::-1 ]\n",
    "\n",
    "s1[0:2]\n",
    "s1[4:6]\n",
    "\n",
    "s1[4:]\n",
    "\n",
    "s1[-2:]\n",
    "\n",
    "s1[1:-1]\n",
    "\n",
    "s1[int(len(s1)/2)]\n",
    "s1[::-1]\n",
    "s1[-1::-1]\n",
    "\n",
    "s1[-1:-3:-1]\n",
    "\n",
    "#s1[len(s1)//2:len(s1)//2]\n",
    "s1[::2]\n",
    "s1[::-2]\n"
   ]
  },
  {
   "cell_type": "markdown",
   "metadata": {},
   "source": [
    "# Functions\n"
   ]
  },
  {
   "cell_type": "code",
   "execution_count": 1,
   "metadata": {},
   "outputs": [
    {
     "data": {
      "text/plain": [
       "'nohtyP'"
      ]
     },
     "execution_count": 1,
     "metadata": {},
     "output_type": "execute_result"
    }
   ],
   "source": [
    "#Reverse a string\n",
    "def reverseString(s):\n",
    "    return s[::-1]\n",
    "\n",
    "reverseString(\"Python\")"
   ]
  },
  {
   "cell_type": "code",
   "execution_count": 7,
   "metadata": {},
   "outputs": [
    {
     "data": {
      "text/plain": [
       "True"
      ]
     },
     "execution_count": 7,
     "metadata": {},
     "output_type": "execute_result"
    }
   ],
   "source": [
    "#Function to check if a string is a palindrome\n",
    "def palindrome(s1):\n",
    "    if s1==s1[::-1]:\n",
    "        return True\n",
    "    else:\n",
    "        return False\n",
    "    \n",
    "palindrome(\"121\")\n"
   ]
  },
  {
   "cell_type": "code",
   "execution_count": 11,
   "metadata": {},
   "outputs": [
    {
     "data": {
      "text/plain": [
       "False"
      ]
     },
     "execution_count": 11,
     "metadata": {},
     "output_type": "execute_result"
    }
   ],
   "source": [
    "# Function to check if a given year is a leap year\n",
    "\n",
    "def isLeapYear(year):\n",
    "    if year % 400 == 0 or (year % 100!=0 and year %4 ==0):\n",
    "        return True\n",
    "    else:\n",
    "        return False\n",
    "        \n",
    "isLeapYear(2020)"
   ]
  },
  {
   "cell_type": "code",
   "execution_count": 14,
   "metadata": {},
   "outputs": [
    {
     "name": "stdout",
     "output_type": "stream",
     "text": [
      "Enter a number123\n"
     ]
    },
    {
     "data": {
      "text/plain": [
       "3"
      ]
     },
     "execution_count": 14,
     "metadata": {},
     "output_type": "execute_result"
    }
   ],
   "source": [
    "#Function to count the number of digits in a given number\n",
    "def digitCount(n):\n",
    "    return len(n)\n",
    "n1=input(\"Enter a number\")\n",
    "digitCount(n1)\n"
   ]
  },
  {
   "cell_type": "code",
   "execution_count": 1,
   "metadata": {},
   "outputs": [
    {
     "name": "stdout",
     "output_type": "stream",
     "text": [
      "Enter a number1\n",
      "Enter a number2\n",
      "Enter a number3\n",
      "Enter a number4\n",
      "4\n"
     ]
    }
   ],
   "source": [
    "### Function to identify the greatest of 4 numbers\n",
    "\n",
    "n1=int(input(\"Enter a number\"))\n",
    "n2=int(input(\"Enter a number\"))\n",
    "n3=int(input(\"Enter a number\"))\n",
    "n4=int(input(\"Enter a number\"))\n",
    "if n1>n2 and n1>n3 and n1>n4:\n",
    "    print(n1)\n",
    "elif n2>n3 and n2>n3:\n",
    "    print(n2)\n",
    "elif n3>n4:\n",
    "    print(n3)\n",
    "else:\n",
    "    print(n4)"
   ]
  },
  {
   "cell_type": "markdown",
   "metadata": {},
   "source": [
    "# Iteration"
   ]
  },
  {
   "cell_type": "markdown",
   "metadata": {},
   "source": [
    "* for\n",
    "* While"
   ]
  },
  {
   "cell_type": "code",
   "execution_count": 8,
   "metadata": {},
   "outputs": [
    {
     "name": "stdout",
     "output_type": "stream",
     "text": [
      "1 2 3 4 5 6 7 8 9 10 11 12 13 14 15 16 17 18 19 20 21 22 23 24 25 26 27 28 29 30 "
     ]
    }
   ],
   "source": [
    "# Fuction to print n numbers\n",
    "\n",
    "def printNNaturalNumbers(n):\n",
    "    for i in range(1, n+1):\n",
    "           print (i, end=\" \")\n",
    "#     return\n",
    "printNNaturalNumbers(30)"
   ]
  },
  {
   "cell_type": "code",
   "execution_count": 12,
   "metadata": {},
   "outputs": [
    {
     "name": "stdout",
     "output_type": "stream",
     "text": [
      "1 2 3 4 5 6 7 8 9 "
     ]
    }
   ],
   "source": [
    "# Function to print N natural numbers using while loop\n",
    "def nNaturalNumbers(n):\n",
    "    counter = 1\n",
    "    while counter <= n:\n",
    "        print(counter,end = \" \")\n",
    "        counter = counter + 1\n",
    "    return\n",
    "nNaturalNumbers(9)"
   ]
  },
  {
   "cell_type": "code",
   "execution_count": 19,
   "metadata": {},
   "outputs": [
    {
     "name": "stdout",
     "output_type": "stream",
     "text": [
      "12 18 24 30 36 42 48 "
     ]
    }
   ],
   "source": [
    "# Function to print all numbers divisible by 6 and \n",
    "# and not a factor of 100 in a given range(lb,ub)inclusive\n",
    "\n",
    "\n",
    "def printNums(n1,n2):\n",
    "    for i in range(n1,n2+1):\n",
    "        if i%6==0 and 100%i!=0:\n",
    "            print(i,end=\" \")\n",
    "printNums(10,50)\n",
    "\n"
   ]
  },
  {
   "cell_type": "code",
   "execution_count": 1,
   "metadata": {},
   "outputs": [
    {
     "data": {
      "text/plain": [
       "360.0"
      ]
     },
     "execution_count": 1,
     "metadata": {},
     "output_type": "execute_result"
    }
   ],
   "source": [
    "#function to find the average of cubes of all even numbers\n",
    "\n",
    "def cubesOfEven(n):\n",
    "    sum = 0\n",
    "    count = 0\n",
    "    for i in range(2,n+1,2):\n",
    "        sum += pow(i,3)\n",
    "        count += 1\n",
    "    return sum/count\n",
    "cubesOfEven(10)\n"
   ]
  },
  {
   "cell_type": "code",
   "execution_count": 12,
   "metadata": {},
   "outputs": [
    {
     "name": "stdout",
     "output_type": "stream",
     "text": [
      "1 2 3 4 6 12 "
     ]
    }
   ],
   "source": [
    "#Function to generate the list of factors for a given number\n",
    "#12 -> 1 2 3 4 6 12\n",
    "def factor(n):\n",
    "    for i in range(1,n+1):\n",
    "        if n%i == 0:\n",
    "            print(i,end=\" \")\n",
    "factor(12)"
   ]
  },
  {
   "cell_type": "code",
   "execution_count": 7,
   "metadata": {},
   "outputs": [
    {
     "data": {
      "text/plain": [
       "120"
      ]
     },
     "execution_count": 7,
     "metadata": {},
     "output_type": "execute_result"
    }
   ],
   "source": [
    "# Function to calculate the factorial of a given number\n",
    "def fact(n):\n",
    "    fact1=1\n",
    "    for i in range (1,n+1):\n",
    "        fact1=fact1*i\n",
    "    return fact1\n",
    "fact(5)\n",
    "        \n"
   ]
  },
  {
   "cell_type": "code",
   "execution_count": 22,
   "metadata": {},
   "outputs": [
    {
     "data": {
      "text/plain": [
       "1"
      ]
     },
     "execution_count": 22,
     "metadata": {},
     "output_type": "execute_result"
    }
   ],
   "source": [
    "# Function to check if a given number is prime\n",
    "\n",
    "def isPrime(n):\n",
    "    flag=1\n",
    "    for i in range(2,n//2):\n",
    "        if n%i==0:\n",
    "            flag=False\n",
    "            return flag\n",
    "    return flag\n",
    "        \n",
    "isPrime(5)"
   ]
  },
  {
   "cell_type": "code",
   "execution_count": null,
   "metadata": {},
   "outputs": [],
   "source": [
    "# Function to calculate the average first N Prime numbers\n",
    "\n",
    "def avgPrime(n):\n",
    "    count=0\n",
    "    sum=0\n",
    "    seqCount=2\n",
    "    while(Count < n):\n",
    "        if isPrime(seqCount):\n",
    "            count+=1\n",
    "            sum+=seqCount"
   ]
  },
  {
   "cell_type": "code",
   "execution_count": null,
   "metadata": {},
   "outputs": [],
   "source": [
    "# Function to generate all perfect numbers in a given range"
   ]
  },
  {
   "cell_type": "code",
   "execution_count": null,
   "metadata": {},
   "outputs": [],
   "source": []
  }
 ],
 "metadata": {
  "kernelspec": {
   "display_name": "Python 3",
   "language": "python",
   "name": "python3"
  },
  "language_info": {
   "codemirror_mode": {
    "name": "ipython",
    "version": 3
   },
   "file_extension": ".py",
   "mimetype": "text/x-python",
   "name": "python",
   "nbconvert_exporter": "python",
   "pygments_lexer": "ipython3",
   "version": "3.7.3"
  }
 },
 "nbformat": 4,
 "nbformat_minor": 2
}
